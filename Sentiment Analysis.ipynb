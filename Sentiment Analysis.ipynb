{
 "cells": [
  {
   "cell_type": "markdown",
   "id": "d5500bc4",
   "metadata": {},
   "source": [
    "# Sentiment Analysis"
   ]
  },
  {
   "cell_type": "code",
   "execution_count": 1,
   "id": "42113929",
   "metadata": {},
   "outputs": [
    {
     "name": "stdout",
     "output_type": "stream",
     "text": [
      "C:\\**\\**\\**\n"
     ]
    }
   ],
   "source": [
    "cd C:\\**\\**\\**"
   ]
  },
  {
   "cell_type": "code",
   "execution_count": 2,
   "id": "7ffae9fb",
   "metadata": {},
   "outputs": [],
   "source": [
    "import pandas as pd\n",
    "import numpy as np\n",
    "import seaborn as sns\n",
    "import matplotlib.pyplot as plt"
   ]
  },
  {
   "cell_type": "code",
   "execution_count": 3,
   "id": "0c3f970b",
   "metadata": {},
   "outputs": [
    {
     "data": {
      "text/html": [
       "<div>\n",
       "<style scoped>\n",
       "    .dataframe tbody tr th:only-of-type {\n",
       "        vertical-align: middle;\n",
       "    }\n",
       "\n",
       "    .dataframe tbody tr th {\n",
       "        vertical-align: top;\n",
       "    }\n",
       "\n",
       "    .dataframe thead th {\n",
       "        text-align: right;\n",
       "    }\n",
       "</style>\n",
       "<table border=\"1\" class=\"dataframe\">\n",
       "  <thead>\n",
       "    <tr style=\"text-align: right;\">\n",
       "      <th></th>\n",
       "      <th>Campaign Name</th>\n",
       "      <th>Category</th>\n",
       "      <th>No. Posts</th>\n",
       "      <th>Objective</th>\n",
       "      <th>Post Hook</th>\n",
       "      <th>Permalink</th>\n",
       "      <th>Post ID</th>\n",
       "      <th>Publish time</th>\n",
       "      <th>Day</th>\n",
       "      <th>Month</th>\n",
       "      <th>...</th>\n",
       "      <th>Shares</th>\n",
       "      <th>Likes</th>\n",
       "      <th>A.Likes</th>\n",
       "      <th>Comments</th>\n",
       "      <th>A. Comments</th>\n",
       "      <th>Saves</th>\n",
       "      <th>Follows</th>\n",
       "      <th>Turned into Ads ?</th>\n",
       "      <th>Ads Status</th>\n",
       "      <th>Comment</th>\n",
       "    </tr>\n",
       "  </thead>\n",
       "  <tbody>\n",
       "    <tr>\n",
       "      <th>0</th>\n",
       "      <td>12 - 2023 // السلس البولي 1</td>\n",
       "      <td>السلس البولي</td>\n",
       "      <td>1.0</td>\n",
       "      <td>Engagement</td>\n",
       "      <td>ما هو أصعب تحدٍ واجهتموه في رحلتكم مع السلس ال...</td>\n",
       "      <td>https://www.instagram.com/p/C1OfvXbMSHi/</td>\n",
       "      <td>1.798314e+16</td>\n",
       "      <td>12/23/2023 22:12</td>\n",
       "      <td>23.0</td>\n",
       "      <td>12.0</td>\n",
       "      <td>...</td>\n",
       "      <td>20.0</td>\n",
       "      <td>11.0</td>\n",
       "      <td>4</td>\n",
       "      <td>12.0</td>\n",
       "      <td>2</td>\n",
       "      <td>12.0</td>\n",
       "      <td>0.0</td>\n",
       "      <td>F</td>\n",
       "      <td>F</td>\n",
       "      <td>NaN</td>\n",
       "    </tr>\n",
       "    <tr>\n",
       "      <th>1</th>\n",
       "      <td>12 - 2023 // السلس البولي 1</td>\n",
       "      <td>السلس البولي</td>\n",
       "      <td>2.0</td>\n",
       "      <td>Awareness</td>\n",
       "      <td>مشاعر يعاني منها مرضى السلس البولي</td>\n",
       "      <td>https://www.instagram.com/p/C1PXBWIsRRH/</td>\n",
       "      <td>1.797981e+16</td>\n",
       "      <td>12/24/2023 6:12</td>\n",
       "      <td>24.0</td>\n",
       "      <td>12.0</td>\n",
       "      <td>...</td>\n",
       "      <td>20.0</td>\n",
       "      <td>12.0</td>\n",
       "      <td>5</td>\n",
       "      <td>14.0</td>\n",
       "      <td>4</td>\n",
       "      <td>14.0</td>\n",
       "      <td>1.0</td>\n",
       "      <td>T</td>\n",
       "      <td>Paused</td>\n",
       "      <td>NaN</td>\n",
       "    </tr>\n",
       "    <tr>\n",
       "      <th>2</th>\n",
       "      <td>12 - 2023 // السلس البولي 1</td>\n",
       "      <td>السلس البولي</td>\n",
       "      <td>3.0</td>\n",
       "      <td>Consideration - Sales</td>\n",
       "      <td>أسباب شائعة تؤدي إلى الإصابة بالسلس البولي</td>\n",
       "      <td>https://www.instagram.com/p/C1Pp7J5MNHY/</td>\n",
       "      <td>1.805380e+16</td>\n",
       "      <td>12/24/2023 9:12</td>\n",
       "      <td>24.0</td>\n",
       "      <td>12.0</td>\n",
       "      <td>...</td>\n",
       "      <td>31.0</td>\n",
       "      <td>20.0</td>\n",
       "      <td>13</td>\n",
       "      <td>14.0</td>\n",
       "      <td>4</td>\n",
       "      <td>21.0</td>\n",
       "      <td>0.0</td>\n",
       "      <td>F</td>\n",
       "      <td>F</td>\n",
       "      <td>NaN</td>\n",
       "    </tr>\n",
       "    <tr>\n",
       "      <th>3</th>\n",
       "      <td>12 - 2023 // السلس البولي 1</td>\n",
       "      <td>السلس البولي</td>\n",
       "      <td>4.0</td>\n",
       "      <td>Awareness</td>\n",
       "      <td>ما هي الخطوات الصحيحة لممارسة تمارين الحوض؟</td>\n",
       "      <td>https://www.instagram.com/p/C1RQBBYMsA0/</td>\n",
       "      <td>1.822073e+16</td>\n",
       "      <td>12/25/2023 0:12</td>\n",
       "      <td>25.0</td>\n",
       "      <td>12.0</td>\n",
       "      <td>...</td>\n",
       "      <td>18.0</td>\n",
       "      <td>7.0</td>\n",
       "      <td>0</td>\n",
       "      <td>12.0</td>\n",
       "      <td>2</td>\n",
       "      <td>15.0</td>\n",
       "      <td>0.0</td>\n",
       "      <td>F</td>\n",
       "      <td>F</td>\n",
       "      <td>NaN</td>\n",
       "    </tr>\n",
       "    <tr>\n",
       "      <th>4</th>\n",
       "      <td>12 - 2023 // السلس البولي 1</td>\n",
       "      <td>السلس البولي</td>\n",
       "      <td>5.0</td>\n",
       "      <td>Consideration - Sales</td>\n",
       "      <td>كم مرة خرجت من مكان هام أو اجتماع بسبب الحاجة ...</td>\n",
       "      <td>https://www.instagram.com/p/C1R9tdeMGXQ/</td>\n",
       "      <td>1.820950e+16</td>\n",
       "      <td>12/25/2023 7:12</td>\n",
       "      <td>25.0</td>\n",
       "      <td>12.0</td>\n",
       "      <td>...</td>\n",
       "      <td>29.0</td>\n",
       "      <td>29.0</td>\n",
       "      <td>22</td>\n",
       "      <td>14.0</td>\n",
       "      <td>4</td>\n",
       "      <td>36.0</td>\n",
       "      <td>1.0</td>\n",
       "      <td>T</td>\n",
       "      <td>Paused</td>\n",
       "      <td>NaN</td>\n",
       "    </tr>\n",
       "  </tbody>\n",
       "</table>\n",
       "<p>5 rows × 29 columns</p>\n",
       "</div>"
      ],
      "text/plain": [
       "                 Campaign Name      Category  No. Posts  \\\n",
       "0  12 - 2023 // السلس البولي 1  السلس البولي        1.0   \n",
       "1  12 - 2023 // السلس البولي 1  السلس البولي        2.0   \n",
       "2  12 - 2023 // السلس البولي 1  السلس البولي        3.0   \n",
       "3  12 - 2023 // السلس البولي 1  السلس البولي        4.0   \n",
       "4  12 - 2023 // السلس البولي 1  السلس البولي        5.0   \n",
       "\n",
       "               Objective                                          Post Hook  \\\n",
       "0             Engagement  ما هو أصعب تحدٍ واجهتموه في رحلتكم مع السلس ال...   \n",
       "1              Awareness                 مشاعر يعاني منها مرضى السلس البولي   \n",
       "2  Consideration - Sales         أسباب شائعة تؤدي إلى الإصابة بالسلس البولي   \n",
       "3              Awareness        ما هي الخطوات الصحيحة لممارسة تمارين الحوض؟   \n",
       "4  Consideration - Sales  كم مرة خرجت من مكان هام أو اجتماع بسبب الحاجة ...   \n",
       "\n",
       "                                  Permalink       Post ID      Publish time  \\\n",
       "0  https://www.instagram.com/p/C1OfvXbMSHi/  1.798314e+16  12/23/2023 22:12   \n",
       "1  https://www.instagram.com/p/C1PXBWIsRRH/  1.797981e+16   12/24/2023 6:12   \n",
       "2  https://www.instagram.com/p/C1Pp7J5MNHY/  1.805380e+16   12/24/2023 9:12   \n",
       "3  https://www.instagram.com/p/C1RQBBYMsA0/  1.822073e+16   12/25/2023 0:12   \n",
       "4  https://www.instagram.com/p/C1R9tdeMGXQ/  1.820950e+16   12/25/2023 7:12   \n",
       "\n",
       "    Day  Month  ...  Shares Likes A.Likes  Comments  A. Comments  Saves  \\\n",
       "0  23.0   12.0  ...    20.0  11.0       4      12.0            2   12.0   \n",
       "1  24.0   12.0  ...    20.0  12.0       5      14.0            4   14.0   \n",
       "2  24.0   12.0  ...    31.0  20.0      13      14.0            4   21.0   \n",
       "3  25.0   12.0  ...    18.0   7.0       0      12.0            2   15.0   \n",
       "4  25.0   12.0  ...    29.0  29.0      22      14.0            4   36.0   \n",
       "\n",
       "   Follows Turned into Ads ?  Ads Status  Comment  \n",
       "0      0.0                 F           F      NaN  \n",
       "1      1.0                 T      Paused      NaN  \n",
       "2      0.0                 F           F      NaN  \n",
       "3      0.0                 F           F      NaN  \n",
       "4      1.0                 T      Paused      NaN  \n",
       "\n",
       "[5 rows x 29 columns]"
      ]
     },
     "execution_count": 3,
     "metadata": {},
     "output_type": "execute_result"
    }
   ],
   "source": [
    "df = pd.read_csv(\"Instagram Data Sheet.csv\")\n",
    "df.head()"
   ]
  },
  {
   "cell_type": "code",
   "execution_count": 4,
   "id": "58b6d16d",
   "metadata": {},
   "outputs": [],
   "source": [
    "df1=df.drop([\"Category\",\"Objective\",\"Publish time\",\"Day\",\"Month\",\"Year\",\"Puplish Time\",\"Engagement\",\"Impressions\",\"Reach\",\"Post type\",\"Permalink\",\"No. Posts\",\"Campaign Name\",\"Comment\",\"Ads Status\",\"Turned into Ads ?\",\"Follows\",\"Saves\",\"A. Comments\",\"Comments\",\"Likes\",\"A.Likes\",\"Shares\",\"Orangic Reach\",\"E/R (%)\",\"Ads\",\"Post ID\"],axis=1)"
   ]
  },
  {
   "cell_type": "code",
   "execution_count": 5,
   "id": "cc045305",
   "metadata": {},
   "outputs": [
    {
     "name": "stdout",
     "output_type": "stream",
     "text": [
      "<class 'pandas.core.frame.DataFrame'>\n",
      "RangeIndex: 1008 entries, 0 to 1007\n",
      "Data columns (total 1 columns):\n",
      " #   Column     Non-Null Count  Dtype \n",
      "---  ------     --------------  ----- \n",
      " 0   Post Hook  215 non-null    object\n",
      "dtypes: object(1)\n",
      "memory usage: 8.0+ KB\n"
     ]
    }
   ],
   "source": [
    "df1.info()"
   ]
  },
  {
   "cell_type": "code",
   "execution_count": 9,
   "id": "d66e5a2a",
   "metadata": {},
   "outputs": [],
   "source": [
    "from textblob import TextBlob"
   ]
  },
  {
   "cell_type": "code",
   "execution_count": 11,
   "id": "6b349cdb",
   "metadata": {},
   "outputs": [
    {
     "name": "stdout",
     "output_type": "stream",
     "text": [
      "                                              Post Hook  text_polarity\n",
      "0     ما هو أصعب تحدٍ واجهتموه في رحلتكم مع السلس ال...            0.0\n",
      "1                    مشاعر يعاني منها مرضى السلس البولي            0.0\n",
      "2            أسباب شائعة تؤدي إلى الإصابة بالسلس البولي            0.0\n",
      "3           ما هي الخطوات الصحيحة لممارسة تمارين الحوض؟            0.0\n",
      "4     كم مرة خرجت من مكان هام أو اجتماع بسبب الحاجة ...            0.0\n",
      "...                                                 ...            ...\n",
      "1003                                                NaN            0.0\n",
      "1004                                                NaN            0.0\n",
      "1005                                                NaN            0.0\n",
      "1006                                                NaN            0.0\n",
      "1007                                                NaN            0.0\n",
      "\n",
      "[1008 rows x 2 columns]\n"
     ]
    }
   ],
   "source": [
    "def getPolarity(text):\n",
    "    return TextBlob(text).sentiment.polarity\n",
    "\n",
    "df1['text_polarity'] = df1['Post Hook'].apply(lambda x: getPolarity(str(x))) \n",
    "print(df1)"
   ]
  },
  {
   "cell_type": "code",
   "execution_count": null,
   "id": "f2b838fe",
   "metadata": {},
   "outputs": [],
   "source": []
  },
  {
   "cell_type": "code",
   "execution_count": 13,
   "id": "d3a236dc",
   "metadata": {},
   "outputs": [
    {
     "name": "stdout",
     "output_type": "stream",
     "text": [
      "Data exported to sentiment_analysis.xlsx\n"
     ]
    }
   ],
   "source": [
    "# Export to Excel\n",
    "df1.to_excel('sentiment_analysis.xlsx', index=False)  # Adjust filename as needed\n",
    "print('Data exported to sentiment_analysis.xlsx')"
   ]
  },
  {
   "cell_type": "code",
   "execution_count": null,
   "id": "bef37458",
   "metadata": {},
   "outputs": [],
   "source": []
  },
  {
   "cell_type": "code",
   "execution_count": null,
   "id": "6e16e6d3",
   "metadata": {},
   "outputs": [],
   "source": []
  },
  {
   "cell_type": "code",
   "execution_count": 24,
   "id": "f6070896",
   "metadata": {},
   "outputs": [],
   "source": [
    "import pandas as pd\n",
    "import nltk\n",
    "from nltk.tokenize import word_tokenize\n",
    "from nltk.sentiment.vader import SentimentIntensityAnalyzer\n",
    "from arabic_reshaper import reshape\n",
    "from bidi.algorithm import get_display"
   ]
  },
  {
   "cell_type": "code",
   "execution_count": 25,
   "id": "13999d7b",
   "metadata": {},
   "outputs": [
    {
     "name": "stderr",
     "output_type": "stream",
     "text": [
      "[nltk_data] Downloading package punkt to\n",
      "[nltk_data]     C:\\Users\\AMF29\\AppData\\Roaming\\nltk_data...\n",
      "[nltk_data]   Unzipping tokenizers\\punkt.zip.\n"
     ]
    },
    {
     "data": {
      "text/plain": [
       "True"
      ]
     },
     "execution_count": 25,
     "metadata": {},
     "output_type": "execute_result"
    }
   ],
   "source": [
    "nltk.download('punkt')"
   ]
  },
  {
   "cell_type": "code",
   "execution_count": 28,
   "id": "7d5383e7",
   "metadata": {},
   "outputs": [
    {
     "name": "stderr",
     "output_type": "stream",
     "text": [
      "[nltk_data] Downloading package vader_lexicon to\n",
      "[nltk_data]     C:\\Users\\AMF29\\AppData\\Roaming\\nltk_data...\n"
     ]
    },
    {
     "data": {
      "text/plain": [
       "True"
      ]
     },
     "execution_count": 28,
     "metadata": {},
     "output_type": "execute_result"
    }
   ],
   "source": [
    "nltk.download('vader_lexicon')\n"
   ]
  },
  {
   "cell_type": "code",
   "execution_count": 36,
   "id": "941c838b",
   "metadata": {},
   "outputs": [],
   "source": [
    "# Define a function to perform sentiment analysis\n",
    "def arabic_sentiment_analysis(text):\n",
    "    # Reshape the Arabic text to display correctly\n",
    "    text = reshape(text)\n",
    "    text = get_display(text)\n",
    "    \n",
    "    # Check if text is a float and convert it to string if necessary\n",
    "    if type(text) == float:\n",
    "        text = str(text)\n",
    "    \n",
    "    # Tokenize the text\n",
    "    tokens = word_tokenize(text)\n",
    "    \n",
    "    # Initialize the sentiment analyzer\n",
    "    sia = SentimentIntensityAnalyzer()\n",
    "    \n",
    "    # Analyze the sentiment\n",
    "    sentiment = sia.polarity_scores(text)\n",
    "    \n",
    "    # Return the sentiment score\n",
    "    return sentiment['compound']\n",
    "\n"
   ]
  },
  {
   "cell_type": "code",
   "execution_count": 35,
   "id": "f4ebae3e",
   "metadata": {},
   "outputs": [
    {
     "data": {
      "text/plain": [
       "False"
      ]
     },
     "execution_count": 35,
     "metadata": {},
     "output_type": "execute_result"
    }
   ],
   "source": [
    "df1['Post Hook'].isna().any()"
   ]
  },
  {
   "cell_type": "code",
   "execution_count": 34,
   "id": "0d60f978",
   "metadata": {},
   "outputs": [],
   "source": [
    "df1.dropna(subset=['Post Hook'], inplace=True)"
   ]
  },
  {
   "cell_type": "code",
   "execution_count": 37,
   "id": "6b1304f4",
   "metadata": {},
   "outputs": [
    {
     "name": "stdout",
     "output_type": "stream",
     "text": [
      "                                           Post Hook  text_polarity  sentiment\n",
      "0  ما هو أصعب تحدٍ واجهتموه في رحلتكم مع السلس ال...            0.0        0.0\n",
      "1                 مشاعر يعاني منها مرضى السلس البولي            0.0        0.0\n",
      "2         أسباب شائعة تؤدي إلى الإصابة بالسلس البولي            0.0        0.0\n",
      "3        ما هي الخطوات الصحيحة لممارسة تمارين الحوض؟            0.0        0.0\n",
      "4  كم مرة خرجت من مكان هام أو اجتماع بسبب الحاجة ...            0.0        0.0\n"
     ]
    }
   ],
   "source": [
    "# Apply the sentiment analysis function to the post hook column\n",
    "df1['sentiment'] = df1['Post Hook'].apply(arabic_sentiment_analysis)\n",
    "\n",
    "# Print the resulting dataframe\n",
    "print(df1.head())"
   ]
  },
  {
   "cell_type": "code",
   "execution_count": 38,
   "id": "3e6f763e",
   "metadata": {},
   "outputs": [
    {
     "name": "stdout",
     "output_type": "stream",
     "text": [
      "Data exported to sentiment_analysis.xlsx\n"
     ]
    }
   ],
   "source": [
    "# Export to Excel\n",
    "df1.to_excel('sentiment_analysis2.xlsx', index=False)  # Adjust filename as needed\n",
    "print('Data exported to sentiment_analysis.xlsx')"
   ]
  },
  {
   "cell_type": "code",
   "execution_count": null,
   "id": "69726494",
   "metadata": {},
   "outputs": [],
   "source": []
  }
 ],
 "metadata": {
  "kernelspec": {
   "display_name": "Python 3 (ipykernel)",
   "language": "python",
   "name": "python3"
  },
  "language_info": {
   "codemirror_mode": {
    "name": "ipython",
    "version": 3
   },
   "file_extension": ".py",
   "mimetype": "text/x-python",
   "name": "python",
   "nbconvert_exporter": "python",
   "pygments_lexer": "ipython3",
   "version": "3.11.4"
  }
 },
 "nbformat": 4,
 "nbformat_minor": 5
}
